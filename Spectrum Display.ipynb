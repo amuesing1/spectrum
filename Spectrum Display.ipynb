{
 "cells": [
  {
   "cell_type": "code",
   "execution_count": null,
   "metadata": {
    "collapsed": false
   },
   "outputs": [],
   "source": []
  },
  {
   "cell_type": "code",
   "execution_count": 3,
   "metadata": {
    "collapsed": false
   },
   "outputs": [],
   "source": [
    "import numpy as np\n",
    "import pyaudio\n",
    "import wave\n",
    "import matplotlib.pyplot as plt\n",
    "import matplotlib.animation as animation\n",
    "\n",
    "data_type = 16 # mapped to 2 ** 15 possible values\n",
    "\n",
    "FORMAT = pyaudio.paInt16\n",
    "CHANNELS = 2\n",
    "RATE = 44100\n",
    "CHUNK = 1024\n",
    "\n",
    "audio = pyaudio.PyAudio()\n",
    "\n",
    "stream = audio.open(format=FORMAT, channels=CHANNELS,\n",
    "                rate=RATE, input=True,\n",
    "                frames_per_buffer=CHUNK)\n",
    "\n",
    "def init():\n",
    "    line.set_visible(False)\n",
    "    return line,\n",
    "\n",
    "fig, ax = plt.subplots()\n",
    "line, = ax.plot(0, 0, color='DarkViolet')\n",
    "\n",
    "def update(frame, line):\n",
    "    if frame==1:\n",
    "        line.set_visible(True)\n",
    "    data = stream.read(CHUNK)\n",
    "    decoded = np.fromstring(data, dtype=np.int16)\n",
    "    sound = decoded #/ (2.0 ** (data_type - 1))\n",
    "    t=np.arange(sound.size)\n",
    "    line.set_data(t, sound)\n",
    "    line.axes.axis([0, sound.size, -7000, 7000])\n",
    "    return line,\n",
    "\n",
    "ani = animation.FuncAnimation(fig, update, init_func=init, fargs=[line],\n",
    "                              interval=25, blit=True)\n",
    "\n",
    "plt.show()"
   ]
  },
  {
   "cell_type": "code",
   "execution_count": null,
   "metadata": {
    "collapsed": true
   },
   "outputs": [],
   "source": []
  }
 ],
 "metadata": {
  "kernelspec": {
   "display_name": "Python 2",
   "language": "python",
   "name": "python2"
  },
  "language_info": {
   "codemirror_mode": {
    "name": "ipython",
    "version": 2
   },
   "file_extension": ".py",
   "mimetype": "text/x-python",
   "name": "python",
   "nbconvert_exporter": "python",
   "pygments_lexer": "ipython2",
   "version": "2.7.6"
  }
 },
 "nbformat": 4,
 "nbformat_minor": 0
}
